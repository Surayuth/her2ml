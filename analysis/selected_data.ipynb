{
 "cells": [
  {
   "cell_type": "code",
   "execution_count": 1,
   "metadata": {},
   "outputs": [],
   "source": [
    "import polars as pl"
   ]
  },
  {
   "cell_type": "code",
   "execution_count": 2,
   "metadata": {},
   "outputs": [],
   "source": [
    "df = pl.read_csv(\"/home/surayuth/her2/extracted_features/combined_feat_scale_0.5.csv\")"
   ]
  },
  {
   "cell_type": "code",
   "execution_count": 6,
   "metadata": {},
   "outputs": [],
   "source": [
    "agg = df.select(\"path\", \"case\", \"ihc_score\", \"label\") \\\n",
    "    .group_by(\"case\") \\\n",
    "    .agg(\n",
    "        pl.len().alias(\"count\"),\n",
    "        pl.col(\"ihc_score\").first(),\n",
    "        pl.col(\"label\").first()\n",
    "    )"
   ]
  },
  {
   "cell_type": "code",
   "execution_count": 15,
   "metadata": {},
   "outputs": [
    {
     "data": {
      "text/html": [
       "<div><style>\n",
       ".dataframe > thead > tr,\n",
       ".dataframe > tbody > tr {\n",
       "  text-align: right;\n",
       "  white-space: pre-wrap;\n",
       "}\n",
       "</style>\n",
       "<small>shape: (5, 4)</small><table border=\"1\" class=\"dataframe\"><thead><tr><th>label</th><th>ihc_score</th><th>count</th><th>tot_count</th></tr><tr><td>i64</td><td>str</td><td>u32</td><td>u32</td></tr></thead><tbody><tr><td>0</td><td>&quot;0&quot;</td><td>11</td><td>324</td></tr><tr><td>0</td><td>&quot;1+&quot;</td><td>11</td><td>266</td></tr><tr><td>0</td><td>&quot;2-&quot;</td><td>23</td><td>617</td></tr><tr><td>1</td><td>&quot;2+&quot;</td><td>30</td><td>833</td></tr><tr><td>1</td><td>&quot;3+&quot;</td><td>19</td><td>535</td></tr></tbody></table></div>"
      ],
      "text/plain": [
       "shape: (5, 4)\n",
       "┌───────┬───────────┬───────┬───────────┐\n",
       "│ label ┆ ihc_score ┆ count ┆ tot_count │\n",
       "│ ---   ┆ ---       ┆ ---   ┆ ---       │\n",
       "│ i64   ┆ str       ┆ u32   ┆ u32       │\n",
       "╞═══════╪═══════════╪═══════╪═══════════╡\n",
       "│ 0     ┆ 0         ┆ 11    ┆ 324       │\n",
       "│ 0     ┆ 1+        ┆ 11    ┆ 266       │\n",
       "│ 0     ┆ 2-        ┆ 23    ┆ 617       │\n",
       "│ 1     ┆ 2+        ┆ 30    ┆ 833       │\n",
       "│ 1     ┆ 3+        ┆ 19    ┆ 535       │\n",
       "└───────┴───────────┴───────┴───────────┘"
      ]
     },
     "execution_count": 15,
     "metadata": {},
     "output_type": "execute_result"
    }
   ],
   "source": [
    "agg \\\n",
    "    .group_by(\"label\", \"ihc_score\") \\\n",
    "    .agg(\n",
    "        pl.len().alias(\"count\"),\n",
    "        pl.col(\"count\").sum().alias(\"tot_count\")\n",
    "    ) \\\n",
    "    .sort(\"label\", \"ihc_score\")"
   ]
  },
  {
   "cell_type": "code",
   "execution_count": 13,
   "metadata": {},
   "outputs": [
    {
     "data": {
      "text/html": [
       "<div><style>\n",
       ".dataframe > thead > tr,\n",
       ".dataframe > tbody > tr {\n",
       "  text-align: right;\n",
       "  white-space: pre-wrap;\n",
       "}\n",
       "</style>\n",
       "<small>shape: (2, 3)</small><table border=\"1\" class=\"dataframe\"><thead><tr><th>label</th><th>count</th><th>tot_count</th></tr><tr><td>i64</td><td>u32</td><td>u32</td></tr></thead><tbody><tr><td>0</td><td>45</td><td>1207</td></tr><tr><td>1</td><td>49</td><td>1368</td></tr></tbody></table></div>"
      ],
      "text/plain": [
       "shape: (2, 3)\n",
       "┌───────┬───────┬───────────┐\n",
       "│ label ┆ count ┆ tot_count │\n",
       "│ ---   ┆ ---   ┆ ---       │\n",
       "│ i64   ┆ u32   ┆ u32       │\n",
       "╞═══════╪═══════╪═══════════╡\n",
       "│ 0     ┆ 45    ┆ 1207      │\n",
       "│ 1     ┆ 49    ┆ 1368      │\n",
       "└───────┴───────┴───────────┘"
      ]
     },
     "execution_count": 13,
     "metadata": {},
     "output_type": "execute_result"
    }
   ],
   "source": [
    "agg \\\n",
    "    .group_by(\"label\") \\\n",
    "    .agg(\n",
    "        pl.len().alias(\"count\"),\n",
    "        pl.col(\"count\").sum().alias(\"tot_count\")\n",
    "    ) \\\n",
    "    .sort(\"label\")"
   ]
  },
  {
   "cell_type": "code",
   "execution_count": null,
   "metadata": {},
   "outputs": [],
   "source": []
  }
 ],
 "metadata": {
  "kernelspec": {
   "display_name": ".venv",
   "language": "python",
   "name": "python3"
  },
  "language_info": {
   "codemirror_mode": {
    "name": "ipython",
    "version": 3
   },
   "file_extension": ".py",
   "mimetype": "text/x-python",
   "name": "python",
   "nbconvert_exporter": "python",
   "pygments_lexer": "ipython3",
   "version": "3.12.3"
  }
 },
 "nbformat": 4,
 "nbformat_minor": 2
}
