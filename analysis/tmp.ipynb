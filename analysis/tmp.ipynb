{
 "cells": [
  {
   "cell_type": "code",
   "execution_count": 34,
   "metadata": {},
   "outputs": [],
   "source": [
    "import numpy as np\n",
    "import polars as pl\n",
    "import seaborn as sns\n",
    "import os\n",
    "from sklearn.metrics import f1_score, recall_score, precision_score, accuracy_score"
   ]
  },
  {
   "cell_type": "code",
   "execution_count": 35,
   "metadata": {},
   "outputs": [
    {
     "name": "stdout",
     "output_type": "stream",
     "text": [
      "f1: 0.653\n",
      "recall: 0.805\n",
      "precision: 0.565\n"
     ]
    }
   ],
   "source": [
    "REPEAT = 50\n",
    "CV = 4\n",
    "features = [\"color\"]\n",
    "\n",
    "features = sorted(features)\n",
    "features = \"_\".join(features)\n",
    "root_features  = \"/home/surayuth/her2/results/baseline_feat|level_32\"\n",
    "\n",
    "ROOT = os.path.join(root_features, features)\n",
    "exp_f1 = np.zeros(REPEAT)\n",
    "exp_recall = np.zeros(REPEAT)\n",
    "exp_precision = np.zeros(REPEAT)\n",
    "\n",
    "for r in range(REPEAT):\n",
    "    f1s = np.zeros(CV)\n",
    "    recalls = np.zeros(CV)\n",
    "    precisions = np.zeros(CV)\n",
    "    for cv in range(4): \n",
    "        path = f\"{ROOT}/{r}_{cv}_{features}.csv\"\n",
    "        df = pl.read_csv(path)\n",
    "\n",
    "        agg = df \\\n",
    "            .group_by(\"case\") \\\n",
    "            .agg(\n",
    "                pl.col(\"label\").first(),\n",
    "                pl.col(\"ihc_score\").first(),\n",
    "                pl.col(\"prob\").mean().alias(\"avg\")\n",
    "            ) \\\n",
    "            .with_columns(\n",
    "                pl.when(pl.col(\"avg\") > 0.5).then(1).otherwise(0)\n",
    "                .alias(\"pred\")\n",
    "            ) \\\n",
    "            .sort(\"label\", \"ihc_score\") \n",
    "\n",
    "        labels = agg.select(\"label\")\n",
    "        preds = agg.select(\"pred\")\n",
    "\n",
    "        f1 = f1_score(labels, preds)\n",
    "        recall = recall_score(labels, preds)\n",
    "        precision = precision_score(labels, preds)\n",
    "\n",
    "        f1s[cv] = f1\n",
    "        recalls[cv] = recall\n",
    "        precisions[cv] = precision\n",
    "\n",
    "    exp_f1[r] = f1s.mean()\n",
    "    exp_recall[r] = recalls.mean()\n",
    "    exp_precision[r] = precisions.mean()\n",
    "\n",
    "print(f\"f1: {exp_f1.mean():.3f}\")\n",
    "print(f\"recall: {exp_recall.mean():.3f}\")\n",
    "print(f\"precision: {exp_precision.mean():.3f}\")"
   ]
  },
  {
   "cell_type": "code",
   "execution_count": 36,
   "metadata": {},
   "outputs": [
    {
     "data": {
      "text/plain": [
       "<seaborn.axisgrid.FacetGrid at 0x78b56cfbe2a0>"
      ]
     },
     "execution_count": 36,
     "metadata": {},
     "output_type": "execute_result"
    },
    {
     "data": {
      "image/png": "[encoded data removed]",
      "text/plain": [
       "<Figure size 500x500 with 1 Axes>"
      ]
     },
     "metadata": {},
     "output_type": "display_data"
    }
   ],
   "source": [
    "sns.displot(data=exp_f1)"
   ]
  },
  {
   "cell_type": "code",
   "execution_count": null,
   "metadata": {},
   "outputs": [],
   "source": []
  }
 ],
 "metadata": {
  "kernelspec": {
   "display_name": ".venv",
   "language": "python",
   "name": "python3"
  },
  "language_info": {
   "codemirror_mode": {
    "name": "ipython",
    "version": 3
   },
   "file_extension": ".py",
   "mimetype": "text/x-python",
   "name": "python",
   "nbconvert_exporter": "python",
   "pygments_lexer": "ipython3",
   "version": "3.12.3"
  }
 },
 "nbformat": 4,
 "nbformat_minor": 2
}
