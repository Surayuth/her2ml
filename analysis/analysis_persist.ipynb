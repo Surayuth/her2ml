{
 "cells": [
  {
   "cell_type": "code",
   "execution_count": 1,
   "metadata": {},
   "outputs": [],
   "source": [
    "import polars as pl"
   ]
  },
  {
   "cell_type": "code",
   "execution_count": 2,
   "metadata": {},
   "outputs": [],
   "source": [
    "df = pl.read_csv(\"/home/surayuth/her2/extracted_features/persist_feat_remove_noise_False_white_balance_False.csv\")"
   ]
  },
  {
   "cell_type": "code",
   "execution_count": 3,
   "metadata": {},
   "outputs": [
    {
     "data": {
      "text/html": [
       "<div><style>\n",
       ".dataframe > thead > tr,\n",
       ".dataframe > tbody > tr {\n",
       "  text-align: right;\n",
       "  white-space: pre-wrap;\n",
       "}\n",
       "</style>\n",
       "<small>shape: (2_569, 14)</small><table border=\"1\" class=\"dataframe\"><thead><tr><th>path</th><th>case</th><th>min</th><th>max</th><th>mode</th><th>q25</th><th>q50</th><th>q75</th><th>mean</th><th>std</th><th>skew</th><th>kurtosis</th><th>ihc_score</th><th>label</th></tr><tr><td>str</td><td>str</td><td>i64</td><td>i64</td><td>i64</td><td>f64</td><td>f64</td><td>f64</td><td>f64</td><td>f64</td><td>f64</td><td>f64</td><td>str</td><td>i64</td></tr></thead><tbody><tr><td>&quot;extracted_persist_features/whi…</td><td>&quot;21 Sep HER2 score 0 case 2&quot;</td><td>1</td><td>3</td><td>1</td><td>1.0</td><td>1.0</td><td>2.0</td><td>1.5</td><td>0.74162</td><td>-0.31405</td><td>1.103236</td><td>&quot;0&quot;</td><td>0</td></tr><tr><td>&quot;extracted_persist_features/whi…</td><td>&quot;21 Sep HER2 score 0 case 2&quot;</td><td>1</td><td>12</td><td>2</td><td>1.0</td><td>2.0</td><td>2.0</td><td>2.21875</td><td>1.980126</td><td>15.799906</td><td>3.800963</td><td>&quot;0&quot;</td><td>0</td></tr><tr><td>&quot;extracted_persist_features/whi…</td><td>&quot;21 Sep HER2 score 0 case 2&quot;</td><td>1</td><td>3</td><td>1</td><td>1.0</td><td>1.0</td><td>1.0</td><td>1.210526</td><td>0.521026</td><td>4.900666</td><td>2.44292</td><td>&quot;0&quot;</td><td>0</td></tr><tr><td>&quot;extracted_persist_features/whi…</td><td>&quot;21 Sep HER2 score 0 case 2&quot;</td><td>1</td><td>3</td><td>1</td><td>1.0</td><td>1.0</td><td>1.25</td><td>1.275</td><td>0.499375</td><td>1.628093</td><td>1.593723</td><td>&quot;0&quot;</td><td>0</td></tr><tr><td>&quot;extracted_persist_features/whi…</td><td>&quot;21 Sep HER2 score 0 case 2&quot;</td><td>1</td><td>11</td><td>1</td><td>1.0</td><td>1.0</td><td>2.0</td><td>2.03125</td><td>1.991927</td><td>10.163636</td><td>2.993509</td><td>&quot;0&quot;</td><td>0</td></tr><tr><td>&hellip;</td><td>&hellip;</td><td>&hellip;</td><td>&hellip;</td><td>&hellip;</td><td>&hellip;</td><td>&hellip;</td><td>&hellip;</td><td>&hellip;</td><td>&hellip;</td><td>&hellip;</td><td>&hellip;</td><td>&hellip;</td><td>&hellip;</td></tr><tr><td>&quot;extracted_persist_features/whi…</td><td>&quot;11 Oct HER2 1+ case 1&quot;</td><td>1</td><td>8</td><td>1</td><td>1.0</td><td>1.0</td><td>2.0</td><td>1.979798</td><td>1.556867</td><td>3.414142</td><td>1.960848</td><td>&quot;1+&quot;</td><td>0</td></tr><tr><td>&quot;extracted_persist_features/whi…</td><td>&quot;11 Oct HER2 1+ case 1&quot;</td><td>1</td><td>10</td><td>1</td><td>1.0</td><td>1.0</td><td>3.0</td><td>2.348148</td><td>2.03422</td><td>3.253637</td><td>1.919971</td><td>&quot;1+&quot;</td><td>0</td></tr><tr><td>&quot;extracted_persist_features/whi…</td><td>&quot;11 Oct HER2 1+ case 1&quot;</td><td>1</td><td>31</td><td>1</td><td>1.0</td><td>1.0</td><td>3.0</td><td>3.194805</td><td>4.891124</td><td>15.071636</td><td>3.728582</td><td>&quot;1+&quot;</td><td>0</td></tr><tr><td>&quot;extracted_persist_features/whi…</td><td>&quot;11 Oct HER2 1+ case 1&quot;</td><td>1</td><td>6</td><td>1</td><td>1.0</td><td>1.0</td><td>2.0</td><td>1.846154</td><td>1.311458</td><td>3.193402</td><td>1.922285</td><td>&quot;1+&quot;</td><td>0</td></tr><tr><td>&quot;extracted_persist_features/whi…</td><td>&quot;11 Oct HER2 1+ case 1&quot;</td><td>1</td><td>7</td><td>1</td><td>1.0</td><td>1.0</td><td>2.0</td><td>1.714286</td><td>1.208811</td><td>5.713601</td><td>2.242777</td><td>&quot;1+&quot;</td><td>0</td></tr></tbody></table></div>"
      ],
      "text/plain": [
       "shape: (2_569, 14)\n",
       "┌───────────────────┬───────────────────┬─────┬─────┬───┬───────────┬──────────┬───────────┬───────┐\n",
       "│ path              ┆ case              ┆ min ┆ max ┆ … ┆ skew      ┆ kurtosis ┆ ihc_score ┆ label │\n",
       "│ ---               ┆ ---               ┆ --- ┆ --- ┆   ┆ ---       ┆ ---      ┆ ---       ┆ ---   │\n",
       "│ str               ┆ str               ┆ i64 ┆ i64 ┆   ┆ f64       ┆ f64      ┆ str       ┆ i64   │\n",
       "╞═══════════════════╪═══════════════════╪═════╪═════╪═══╪═══════════╪══════════╪═══════════╪═══════╡\n",
       "│ extracted_persist ┆ 21 Sep HER2 score ┆ 1   ┆ 3   ┆ … ┆ -0.31405  ┆ 1.103236 ┆ 0         ┆ 0     │\n",
       "│ _features/whi…    ┆ 0 case 2          ┆     ┆     ┆   ┆           ┆          ┆           ┆       │\n",
       "│ extracted_persist ┆ 21 Sep HER2 score ┆ 1   ┆ 12  ┆ … ┆ 15.799906 ┆ 3.800963 ┆ 0         ┆ 0     │\n",
       "│ _features/whi…    ┆ 0 case 2          ┆     ┆     ┆   ┆           ┆          ┆           ┆       │\n",
       "│ extracted_persist ┆ 21 Sep HER2 score ┆ 1   ┆ 3   ┆ … ┆ 4.900666  ┆ 2.44292  ┆ 0         ┆ 0     │\n",
       "│ _features/whi…    ┆ 0 case 2          ┆     ┆     ┆   ┆           ┆          ┆           ┆       │\n",
       "│ extracted_persist ┆ 21 Sep HER2 score ┆ 1   ┆ 3   ┆ … ┆ 1.628093  ┆ 1.593723 ┆ 0         ┆ 0     │\n",
       "│ _features/whi…    ┆ 0 case 2          ┆     ┆     ┆   ┆           ┆          ┆           ┆       │\n",
       "│ extracted_persist ┆ 21 Sep HER2 score ┆ 1   ┆ 11  ┆ … ┆ 10.163636 ┆ 2.993509 ┆ 0         ┆ 0     │\n",
       "│ _features/whi…    ┆ 0 case 2          ┆     ┆     ┆   ┆           ┆          ┆           ┆       │\n",
       "│ …                 ┆ …                 ┆ …   ┆ …   ┆ … ┆ …         ┆ …        ┆ …         ┆ …     │\n",
       "│ extracted_persist ┆ 11 Oct HER2 1+    ┆ 1   ┆ 8   ┆ … ┆ 3.414142  ┆ 1.960848 ┆ 1+        ┆ 0     │\n",
       "│ _features/whi…    ┆ case 1            ┆     ┆     ┆   ┆           ┆          ┆           ┆       │\n",
       "│ extracted_persist ┆ 11 Oct HER2 1+    ┆ 1   ┆ 10  ┆ … ┆ 3.253637  ┆ 1.919971 ┆ 1+        ┆ 0     │\n",
       "│ _features/whi…    ┆ case 1            ┆     ┆     ┆   ┆           ┆          ┆           ┆       │\n",
       "│ extracted_persist ┆ 11 Oct HER2 1+    ┆ 1   ┆ 31  ┆ … ┆ 15.071636 ┆ 3.728582 ┆ 1+        ┆ 0     │\n",
       "│ _features/whi…    ┆ case 1            ┆     ┆     ┆   ┆           ┆          ┆           ┆       │\n",
       "│ extracted_persist ┆ 11 Oct HER2 1+    ┆ 1   ┆ 6   ┆ … ┆ 3.193402  ┆ 1.922285 ┆ 1+        ┆ 0     │\n",
       "│ _features/whi…    ┆ case 1            ┆     ┆     ┆   ┆           ┆          ┆           ┆       │\n",
       "│ extracted_persist ┆ 11 Oct HER2 1+    ┆ 1   ┆ 7   ┆ … ┆ 5.713601  ┆ 2.242777 ┆ 1+        ┆ 0     │\n",
       "│ _features/whi…    ┆ case 1            ┆     ┆     ┆   ┆           ┆          ┆           ┆       │\n",
       "└───────────────────┴───────────────────┴─────┴─────┴───┴───────────┴──────────┴───────────┴───────┘"
      ]
     },
     "execution_count": 3,
     "metadata": {},
     "output_type": "execute_result"
    }
   ],
   "source": [
    "df"
   ]
  },
  {
   "cell_type": "code",
   "execution_count": null,
   "metadata": {},
   "outputs": [],
   "source": []
  }
 ],
 "metadata": {
  "kernelspec": {
   "display_name": ".venv",
   "language": "python",
   "name": "python3"
  },
  "language_info": {
   "codemirror_mode": {
    "name": "ipython",
    "version": 3
   },
   "file_extension": ".py",
   "mimetype": "text/x-python",
   "name": "python",
   "nbconvert_exporter": "python",
   "pygments_lexer": "ipython3",
   "version": "3.12.3"
  }
 },
 "nbformat": 4,
 "nbformat_minor": 2
}
