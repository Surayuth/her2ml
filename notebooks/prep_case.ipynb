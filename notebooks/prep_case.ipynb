{
 "cells": [
  {
   "cell_type": "code",
   "execution_count": 1,
   "metadata": {},
   "outputs": [],
   "source": [
    "import polars as pl"
   ]
  },
  {
   "cell_type": "code",
   "execution_count": 4,
   "metadata": {},
   "outputs": [],
   "source": [
    "df = pl.read_csv(\"/home/surayuth/her2/extracted_features/linefeat|scale_0.25|minhole_10|maxhole_1000|maxres_0.25.csv\")"
   ]
  },
  {
   "cell_type": "code",
   "execution_count": 5,
   "metadata": {},
   "outputs": [],
   "source": [
    "prep_df = df \\\n",
    "    .with_columns(\n",
    "        pl.when(pl.col(\"case\").str.contains(\"1+\", literal=True))\n",
    "        .then(pl.lit(\"1+\"))\n",
    "        .when(pl.col(\"case\").str.contains(\"score 0 case 2\", literal=True))\n",
    "        .then(pl.lit(\"0\"))\n",
    "        .when(pl.col(\"case\").str.contains(\"3+ D+ 01\", literal=True))\n",
    "        .then(pl.lit(\"3+\"))\n",
    "        .when(pl.col(\"case\").str.contains(\"2+ DISH+\", literal=True))\n",
    "        .then(pl.lit(\"2+\"))\n",
    "        .when(pl.col(\"case\").str.contains(\"3+\", literal=True))\n",
    "        .then(pl.lit(\"3+\"))\n",
    "        .when(pl.col(\"case\").str.contains(\"28 Jun HER2 IHC negative\", literal=True))\n",
    "        .then(pl.lit(\"2-\"))\n",
    "        .when(pl.col(\"case\").str.contains(\"2+ D+\", literal=True))\n",
    "        .then(pl.lit(\"2+\"))\n",
    "        .when(pl.col(\"case\").str.contains(\"2+ DISH -\", literal=True))\n",
    "        .then(pl.lit(\"2-\"))\n",
    "        .when(pl.col(\"case\").str.contains(\"HER2 0\", literal=True))\n",
    "        .then(pl.lit(\"0\"))\n",
    "        .when(pl.col(\"case\").str.contains(\"HER2 score 1\", literal=True))\n",
    "        .then(pl.lit(\"1+\"))\n",
    "        .when(pl.col(\"case\").str.contains(\"2+ DISH-\", literal=True))\n",
    "        .then(pl.lit(\"2-\"))\n",
    "        .when(pl.col(\"case\").str.contains(\"2+ Dish -\", literal=True))\n",
    "        .then(pl.lit(\"2-\"))\n",
    "        .when(pl.col(\"case\").str.contains(\"2+ DISH+\", literal=True))\n",
    "        .then(pl.lit(\"2+\"))\n",
    "        .when(pl.col(\"case\").str.contains(\"2+ DISH +\", literal=True))\n",
    "        .then(pl.lit(\"2+\"))\n",
    "        .when(pl.col(\"case\").str.contains(\"2+ Dish+\", literal=True))\n",
    "        .then(pl.lit(\"2+\"))\n",
    "        .when(pl.col(\"case\").str.contains(\"13 Sep HER2 different brightness\", literal=True))\n",
    "        .then(pl.lit(\"3+\"))\n",
    "        .when(pl.col(\"case\").str.contains(\"2+DISH+\", literal=True))\n",
    "        .then(pl.lit(\"2+\"))\n",
    "        .when(pl.col(\"case\").str.contains(\"HER2 neg case 01\", literal=True))\n",
    "        .then(pl.lit(\"2-\"))\n",
    "        .when(pl.col(\"case\").str.contains(\"2 + DISH +\", literal=True))\n",
    "        .then(pl.lit(\"2+\"))\n",
    "        .when(pl.col(\"case\").str.contains(\"score 0\", literal=True))\n",
    "        .then(pl.lit(\"0\"))\n",
    "        .otherwise(None)\n",
    "        .alias(\"ihc_score\")\n",
    "    ) \\\n",
    "    .with_columns(\n",
    "        pl.when(pl.col(\"ihc_score\").is_in([\"0\", \"1+\", \"2-\"]))\n",
    "        .then(pl.lit(0))\n",
    "        .otherwise(1)\n",
    "        .alias(\"label\")\n",
    "    ) \\\n",
    "    .filter(\n",
    "        (~pl.col(\"case\").is_in([\"high_mag\", \"low_mag\", \"HER2 unknown case 01\"]))\n",
    "    )"
   ]
  }
 ],
 "metadata": {
  "kernelspec": {
   "display_name": ".venv",
   "language": "python",
   "name": "python3"
  },
  "language_info": {
   "codemirror_mode": {
    "name": "ipython",
    "version": 3
   },
   "file_extension": ".py",
   "mimetype": "text/x-python",
   "name": "python",
   "nbconvert_exporter": "python",
   "pygments_lexer": "ipython3",
   "version": "3.12.3"
  }
 },
 "nbformat": 4,
 "nbformat_minor": 2
}
