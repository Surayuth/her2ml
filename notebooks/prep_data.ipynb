{
 "cells": [
  {
   "cell_type": "code",
   "execution_count": 1,
   "metadata": {},
   "outputs": [],
   "source": [
    "import cv2\n",
    "import scipy.stats\n",
    "import numpy as np\n",
    "from pathlib import Path\n",
    "from PIL import Image\n",
    "from pillow_heif import open_heif\n",
    "import matplotlib.pyplot as plt\n",
    "from skimage.measure import euler_number, label"
   ]
  },
  {
   "cell_type": "code",
   "execution_count": 2,
   "metadata": {},
   "outputs": [],
   "source": [
    "def read_image(path, scale=1/4):\n",
    "    try:\n",
    "        if Path(path).suffix.lower() == \".heic\":\n",
    "            img = open_heif(path, convert_hdr_to_8bit=True)\n",
    "        else:\n",
    "            img = Image.open(path)\n",
    "        rgb = np.asarray(img)\n",
    "        H, W = rgb.shape[:-1]\n",
    "        new_H = int(H * scale)\n",
    "        new_W = int(W * scale)\n",
    "    except:\n",
    "        print(path)\n",
    "        raise\n",
    "    return cv2.resize(rgb, (new_W, new_H))\n",
    "\n",
    "def extract_mask(img):\n",
    "    lab = cv2.cvtColor(img, cv2.COLOR_RGB2LAB)\n",
    "    l = lab[:,:,0] / 255\n",
    "    rb_mask = img[:,:,0] > img[:,:,2]\n",
    "    bg_l = scipy.stats.mode(l.reshape(-1)).mode\n",
    "    cont_mask = (np.abs(l - bg_l) / bg_l) * rb_mask\n",
    "    return cont_mask\n",
    "\n",
    "\n",
    "def extract_line(cont_mask, min_hole=10, max_hole=1000, max_res=0.25):\n",
    "    kernel = np.ones((3,3),np.uint8)\n",
    "    cs = np.arange(0.15, 1, .01)\n",
    "    holes = np.zeros(len(cs))\n",
    "    for i, c in enumerate(cs):\n",
    "        cont_dab = ((cont_mask > c) * 255).astype(np.uint8)\n",
    "        closing = cv2.morphologyEx(cont_dab, cv2.MORPH_CLOSE, kernel)\n",
    "        e8 = euler_number(closing, connectivity=2)\n",
    "        object_nb_8 = label(closing, connectivity=2).max()\n",
    "        holes_nb_8 = object_nb_8 - e8\n",
    "        holes[i] = holes_nb_8\n",
    "\n",
    "    cond = (holes > min_hole) & (holes < max_hole)\n",
    "    x = cs[cond]\n",
    "    y = -np.log(holes[cond])\n",
    "\n",
    "    if len(x) > 1:\n",
    "        for deg in np.arange(1, 10):\n",
    "            params, res, _, _,_ = np.polyfit(x, y, deg=deg, full=True)\n",
    "            if len(res) > 0:\n",
    "                if res[0] < max_res:\n",
    "                    if deg == 1:\n",
    "                        if params[0] > 0:\n",
    "                            return len(x), deg, params[0], (x, y)\n",
    "                    else:\n",
    "                        return len(x), deg, -1., (x, y)\n",
    "            else:\n",
    "                return len(x), deg, params[0], (x, y)\n",
    "    else:\n",
    "        return 0, 0, -1., ([0], [0])"
   ]
  },
  {
   "cell_type": "code",
   "execution_count": 4,
   "metadata": {},
   "outputs": [
    {
     "data": {
      "text/plain": [
       "[<matplotlib.lines.Line2D at 0x7d05f69b7410>]"
      ]
     },
     "execution_count": 4,
     "metadata": {},
     "output_type": "execute_result"
    },
    {
     "data": {
      "image/png": "[encoded data removed]",
      "text/plain": [
       "<Figure size 640x480 with 1 Axes>"
      ]
     },
     "metadata": {},
     "output_type": "display_data"
    }
   ],
   "source": [
    "path = \"../Data_Chula/7 Dec 23 HER2 3+ D+ 01/HER2 3+ D+ (145).TIF\"\n",
    "\n",
    "img = read_image(path)\n",
    "cont_mask = extract_mask(img)\n",
    "n, deg, param_v, (x, y) = extract_line(cont_mask)\n",
    "plt.plot(x, y)"
   ]
  },
  {
   "cell_type": "code",
   "execution_count": null,
   "metadata": {},
   "outputs": [],
   "source": []
  }
 ],
 "metadata": {
  "kernelspec": {
   "display_name": "her2",
   "language": "python",
   "name": "python3"
  },
  "language_info": {
   "codemirror_mode": {
    "name": "ipython",
    "version": 3
   },
   "file_extension": ".py",
   "mimetype": "text/x-python",
   "name": "python",
   "nbconvert_exporter": "python",
   "pygments_lexer": "ipython3",
   "version": "3.12.3"
  }
 },
 "nbformat": 4,
 "nbformat_minor": 2
}
