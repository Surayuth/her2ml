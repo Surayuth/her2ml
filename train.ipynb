{
 "cells": [
  {
   "cell_type": "code",
   "execution_count": 136,
   "metadata": {},
   "outputs": [],
   "source": [
    "import numpy as np\n",
    "import polars as pl"
   ]
  },
  {
   "cell_type": "code",
   "execution_count": 2,
   "metadata": {},
   "outputs": [],
   "source": [
    "# 1 select case\n",
    "# 2 cross validation (train only no hyper opt)\n",
    "# 3 calculate mean prediction of case level \n",
    "# - accuracy \n",
    "# - precision\n",
    "# - recall\n",
    "# - F1"
   ]
  },
  {
   "cell_type": "code",
   "execution_count": 82,
   "metadata": {},
   "outputs": [],
   "source": [
    "df = pl.read_csv(\"/home/surayuth/her2/extracted_features/linefeat_v4|scale_0.5|minhole_10|n_cell_10|n_cell_30|min_cont_0.1|min_area_hole_25.csv\")\n",
    "df = df \\\n",
    "    .with_columns(\n",
    "        (pl.col(\"h_max\") / (pl.col(\"n_cell_10\") + 1e-8))\n",
    "        .alias(\"hole_ratio\")\n",
    "    )"
   ]
  },
  {
   "cell_type": "code",
   "execution_count": 83,
   "metadata": {},
   "outputs": [],
   "source": [
    "min_count = 10\n",
    "max_count = 30\n",
    "\n",
    "selected_df = (\n",
    "        df \\\n",
    "        .with_columns(\n",
    "            pl.len().over(\"case\")\n",
    "            .alias(\"count\")\n",
    "        ) \n",
    "        .filter(\n",
    "            pl.col(\"count\") >= min_count\n",
    "        ) \n",
    "        .with_columns(\n",
    "            pl.min_horizontal(max_count, pl.col(\"count\"))\n",
    "            .alias(\"cap_max\")\n",
    "        ) \n",
    "        .with_columns(\n",
    "            pl.arange(1, pl.len() + 1).over(\"case\")\n",
    "            .alias(\"case_idx\")\n",
    "        ) \n",
    "        .filter(\n",
    "            pl.col(\"case_idx\") <= pl.col(\"cap_max\")\n",
    "        )\n",
    "    )\n",
    "\n",
    "\n",
    "case_df = selected_df.group_by(\"case\").agg(pl.col(\"label\").min())"
   ]
  },
  {
   "cell_type": "code",
   "execution_count": 142,
   "metadata": {},
   "outputs": [
    {
     "name": "stdout",
     "output_type": "stream",
     "text": [
      "state: 0\n",
      "==============================\n",
      "0.6812166329693291 0.7016356507415937 0.6795752202240168\n",
      "state: 1\n",
      "==============================\n",
      "0.6902676141679636 0.7147843648168181 0.6889009581405421\n",
      "state: 2\n",
      "==============================\n",
      "0.6654979716680263 0.6901657493539798 0.6644043416827845\n",
      "state: 3\n",
      "==============================\n",
      "0.7052793353346558 0.7277035979991023 0.6975625895419123\n",
      "state: 4\n",
      "==============================\n",
      "0.6879453631680925 0.7123185809253778 0.6867715840706015\n",
      "state: 5\n",
      "==============================\n",
      "0.6963230068397375 0.7143805354350852 0.6954516810814662\n",
      "state: 6\n",
      "==============================\n",
      "0.7051929083148017 0.7228709208069648 0.7026279152325983\n",
      "state: 7\n",
      "==============================\n",
      "0.6968038587272511 0.7262816501499727 0.6935817179853527\n",
      "state: 8\n",
      "==============================\n",
      "0.6992755407702819 0.7252143669179144 0.6992580576758353\n",
      "state: 9\n",
      "==============================\n",
      "0.6699305645410356 0.6780668311991911 0.6756751153587593\n"
     ]
    }
   ],
   "source": [
    "from sklearn.model_selection import StratifiedKFold\n",
    "from sklearn.ensemble import RandomForestClassifier, GradientBoostingClassifier\n",
    "from sklearn.metrics import accuracy_score, f1_score, roc_auc_score\n",
    "\n",
    "hole_feat = [\"hole_ratio\"]\n",
    "lbp_feat = [f\"lbp{i}\" for i in range(10)]\n",
    "hara_feat = [\n",
    "        \"contrast\", \"dissim\", \"homo\", \"asm\",\n",
    "        \"energy\", \"corrs\", \"entropy\"\n",
    "    ] \n",
    "\n",
    "selected_feat = [\"hole\", \"lbp\", \"hara\"]\n",
    "features = []\n",
    "if \"hole\" in selected_feat:\n",
    "    features += hole_feat\n",
    "if \"lbp\" in selected_feat:\n",
    "    features += lbp_feat\n",
    "if \"hara\" in selected_feat:\n",
    "    features += hara_feat\n",
    "\n",
    "for k in range(10):\n",
    "    print(f\"state: {k}\")\n",
    "    print(\"=\" * 30)\n",
    "    skf = StratifiedKFold(n_splits=4, random_state=k, shuffle=True)\n",
    "    acc = []\n",
    "    f1 = []\n",
    "    auc = []\n",
    "    for i, (train_index, test_index) in enumerate(skf.split(case_df.select(\"case\"), case_df.select(\"label\"))):\n",
    "        train_case = case_df[train_index].select(\"case\")\n",
    "        test_case = case_df[test_index].select(\"case\")\n",
    "        train_df = selected_df.filter(pl.col(\"case\").is_in(train_case)).select(*features, \"label\")\n",
    "        test_df = selected_df.filter(pl.col(\"case\").is_in(test_case)).select(*features, \"label\")\n",
    "\n",
    "        X_train = train_df.drop(\"label\").to_numpy()\n",
    "        y_train = train_df.select(\"label\").to_numpy().reshape(-1)\n",
    "\n",
    "        X_test = test_df.drop(\"label\").to_numpy()\n",
    "        y_test = test_df.select(\"label\").to_numpy().reshape(-1)\n",
    "\n",
    "        #model = RandomForestClassifier(n_estimators=10)\n",
    "        model = GradientBoostingClassifier()\n",
    "        model.fit(X_train, y_train)\n",
    "        y_pred = model.predict(X_test)\n",
    "\n",
    "        acc.append(accuracy_score(y_test, y_pred))\n",
    "        f1.append(f1_score(y_test, y_pred))\n",
    "        auc.append(roc_auc_score(y_test, y_pred))\n",
    "    print(np.mean(acc), np.mean(f1), np.mean(auc))"
   ]
  },
  {
   "cell_type": "code",
   "execution_count": null,
   "metadata": {},
   "outputs": [],
   "source": []
  }
 ],
 "metadata": {
  "kernelspec": {
   "display_name": ".venv",
   "language": "python",
   "name": "python3"
  },
  "language_info": {
   "codemirror_mode": {
    "name": "ipython",
    "version": 3
   },
   "file_extension": ".py",
   "mimetype": "text/x-python",
   "name": "python",
   "nbconvert_exporter": "python",
   "pygments_lexer": "ipython3",
   "version": "3.12.3"
  }
 },
 "nbformat": 4,
 "nbformat_minor": 2
}
