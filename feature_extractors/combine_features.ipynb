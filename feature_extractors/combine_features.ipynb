{
 "cells": [
  {
   "cell_type": "code",
   "execution_count": 4,
   "metadata": {},
   "outputs": [],
   "source": [
    "import numpy as np\n",
    "import polars as pl\n",
    "from pathlib import Path\n",
    "import matplotlib.pyplot as plt"
   ]
  },
  {
   "cell_type": "code",
   "execution_count": 5,
   "metadata": {},
   "outputs": [],
   "source": [
    "scale = 0.25\n",
    "filter_bg = False\n",
    "orig_feat = pl.read_csv(f\"/home/surayuth/her2/extracted_features/orig_feat_level_16_white_balance_False_scale_{scale}.csv\")\n",
    "persist_feat = pl.read_csv(f\"/home/surayuth/her2/extracted_features/persist_feat_remove_noise_False_white_balance_False_filter_bg_{filter_bg}_scale_0.25.csv\")"
   ]
  },
  {
   "cell_type": "code",
   "execution_count": 6,
   "metadata": {},
   "outputs": [],
   "source": [
    "persist_feat = persist_feat \\\n",
    "    .with_columns(\n",
    "        pl.Series(\n",
    "            [Path(p).stem for p in persist_feat[\"path\"].to_list()]\n",
    "        ).alias(\"stem\")\n",
    "    )\n",
    "\n",
    "orig_feat = orig_feat \\\n",
    "    .with_columns(\n",
    "        pl.Series(\n",
    "            [Path(p).stem for p in orig_feat[\"path\"].to_list()]\n",
    "        ).alias(\"stem\")\n",
    "    )\n",
    "\n",
    "combined_feat = orig_feat.drop(\"ihc_score\", \"label\") \\\n",
    "    .join(\n",
    "        persist_feat.drop(\"path\"),\n",
    "        on=[\"case\", \"stem\"],\n",
    "        how=\"inner\"\n",
    "    ).drop(\"stem\")"
   ]
  },
  {
   "cell_type": "code",
   "execution_count": 7,
   "metadata": {},
   "outputs": [],
   "source": [
    "combined_feat.write_csv(f\"../extracted_features/combined_feat_scale_{scale}_filter_bg_{filter_bg}.csv\")"
   ]
  },
  {
   "cell_type": "code",
   "execution_count": 23,
   "metadata": {},
   "outputs": [
    {
     "data": {
      "text/plain": [
       "array([False, False, False, False, False, False,  True,  True, False,\n",
       "       False])"
      ]
     },
     "execution_count": 23,
     "metadata": {},
     "output_type": "execute_result"
    }
   ],
   "source": [
    "from sklearn.datasets import make_friedman1\n",
    "from sklearn.feature_selection import RFE\n",
    "from sklearn.svm import SVR\n",
    "\n",
    "X = persist_feat.drop(\"path\", \"case\", \"ihc_score\", \"label\", \"stem\").to_numpy()\n",
    "y = persist_feat.select(\"label\").to_numpy().reshape(-1)\n",
    "\n",
    "estimator = SVR(kernel=\"linear\")\n",
    "\n",
    "selector = RFE(estimator, n_features_to_select=2, step=1)\n",
    "\n",
    "selector = selector.fit(X, y)\n",
    "\n",
    "selector.support_"
   ]
  },
  {
   "cell_type": "code",
   "execution_count": 24,
   "metadata": {},
   "outputs": [
    {
     "data": {
      "text/plain": [
       "array(['mean', 'std'], dtype='<U8')"
      ]
     },
     "execution_count": 24,
     "metadata": {},
     "output_type": "execute_result"
    }
   ],
   "source": [
    "np.array(persist_feat.drop(\"path\", \"case\", \"ihc_score\", \"label\", \"stem\").columns)[selector.support_]"
   ]
  },
  {
   "cell_type": "code",
   "execution_count": 36,
   "metadata": {},
   "outputs": [],
   "source": [
    "agg = persist_feat.select(\"path\", \"case\", \"mean\", \"std\", \"label\") \\\n",
    "    .group_by(\"case\") \\\n",
    "    .agg(\n",
    "        pl.col(\"mean\").mean(),\n",
    "        pl.col(\"std\").mean(),\n",
    "        pl.col(\"label\").first()\n",
    "    ) \\\n",
    "    .sort(\"label\", \"mean\") "
   ]
  },
  {
   "cell_type": "code",
   "execution_count": 45,
   "metadata": {},
   "outputs": [
    {
     "data": {
      "text/plain": [
       "<matplotlib.collections.PathCollection at 0x737729ff46e0>"
      ]
     },
     "execution_count": 45,
     "metadata": {},
     "output_type": "execute_result"
    },
    {
     "data": {
      "image/png": "[encoded data removed]",
      "text/plain": [
       "<Figure size 640x480 with 1 Axes>"
      ]
     },
     "metadata": {},
     "output_type": "display_data"
    }
   ],
   "source": [
    "plt.scatter(agg.filter(pl.col(\"label\") == 0).select(\"mean\"), agg.filter(pl.col(\"label\") == 0).select(\"std\"), s=3, c=\"b\")\n",
    "plt.scatter(agg.filter(pl.col(\"label\") == 1).select(\"mean\"), agg.filter(pl.col(\"label\") == 1).select(\"std\"), s=3, c=\"r\")"
   ]
  },
  {
   "cell_type": "code",
   "execution_count": 91,
   "metadata": {},
   "outputs": [
    {
     "data": {
      "text/plain": [
       "<matplotlib.legend.Legend at 0x73771008a210>"
      ]
     },
     "execution_count": 91,
     "metadata": {},
     "output_type": "execute_result"
    },
    {
     "data": {
      "image/png": "[encoded data removed]",
      "text/plain": [
       "<Figure size 640x480 with 1 Axes>"
      ]
     },
     "metadata": {},
     "output_type": "display_data"
    }
   ],
   "source": [
    "agg2 = persist_feat.select(\"path\", \"case\", \"mean\", \"std\", \"label\", \"ihc_score\") \\\n",
    "    .sort(\"case\", \"mean\", descending=[False, True]) \\\n",
    "    .with_columns(\n",
    "        pl.arange(1, pl.len() + 1).over(\"case\")\n",
    "        .alias(\"idx\"),\n",
    "        pl.len().over('case').alias(\"len\")\n",
    "    ) \\\n",
    "    .with_columns(\n",
    "        (pl.col(\"idx\") / pl.col(\"len\")).alias(\"p\")\n",
    "    ) \\\n",
    "    .filter(\n",
    "        pl.col(\"p\") <= 0.5\n",
    "    ) \\\n",
    "    .group_by(\"case\") \\\n",
    "    .agg(\n",
    "        pl.col(\"mean\").mean(),\n",
    "        pl.col(\"std\").mean(),\n",
    "        pl.col(\"label\").first(),\n",
    "        pl.col(\"ihc_score\").first()\n",
    "    ) \\\n",
    "    .sort(\"label\", \"mean\")\n",
    "\n",
    "fig, ax = plt.subplots()\n",
    "for score in [\"0\", \"1+\", \"2-\", \"2+\", \"3+\"]:\n",
    "    sub_agg = agg2.filter(pl.col(\"ihc_score\") == score)\n",
    "    x = sub_agg.select(\"mean\")\n",
    "    y = sub_agg.select(\"std\")\n",
    "    ax.scatter(x, y, label=score, s=3)\n",
    "ax.legend()"
   ]
  }
 ],
 "metadata": {
  "kernelspec": {
   "display_name": ".venv",
   "language": "python",
   "name": "python3"
  },
  "language_info": {
   "codemirror_mode": {
    "name": "ipython",
    "version": 3
   },
   "file_extension": ".py",
   "mimetype": "text/x-python",
   "name": "python",
   "nbconvert_exporter": "python",
   "pygments_lexer": "ipython3",
   "version": "3.12.3"
  }
 },
 "nbformat": 4,
 "nbformat_minor": 2
}
