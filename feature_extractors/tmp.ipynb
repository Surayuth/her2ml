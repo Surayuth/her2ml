{
 "cells": [
  {
   "cell_type": "code",
   "execution_count": 1,
   "metadata": {},
   "outputs": [],
   "source": [
    "import numpy as np\n",
    "import polars as pl\n",
    "import matplotlib.pyplot as plt\n",
    "from extract_line_feat_v3 import *"
   ]
  },
  {
   "cell_type": "code",
   "execution_count": 2,
   "metadata": {},
   "outputs": [],
   "source": [
    "img = read_image(\"../Data_Chula/1 Sep HER2 2+ DISH - case 1/1 Sep D- HER2 2+ case 1 (27).JPG\")\n",
    "cont_mask, h_cont_mask = extract_mask(img)"
   ]
  },
  {
   "cell_type": "code",
   "execution_count": 24,
   "metadata": {},
   "outputs": [
    {
     "name": "stdout",
     "output_type": "stream",
     "text": [
      "575.4665233088183 16.84413972640164 0.08080601215786537 0.0017691125642612575 0.04199792025876574 0.6234151086751989 1.9477995080138486\n"
     ]
    }
   ],
   "source": [
    "from skimage.feature import local_binary_pattern\n",
    "from skimage.feature import graycomatrix, graycoprops\n",
    "from skimage.measure import shannon_entropy\n",
    "\n",
    "holes = []\n",
    "min_cont = 0.1\n",
    "min_area_hole = 25\n",
    "q_cont_mask = np.zeros(cont_mask.shape).astype(np.uint8)\n",
    "d = .005\n",
    "ths = np.arange(min_cont, 1., d)\n",
    "for i in range(len(ths[:-1])):\n",
    "    th1 = ths[i]\n",
    "    th2 = ths[i+1]\n",
    "    holes.append(count_hole(cont_mask > th1, min_area_hole))\n",
    "    q_cont_mask += (\n",
    "        (cont_mask >= th1) & \n",
    "        (cont_mask < th2)\n",
    "    ).astype(np.uint8) * i\n",
    "\n",
    "\n",
    "lbp = local_binary_pattern(q_cont_mask, P=8, R=1, method=\"uniform\")\n",
    "lbp = lbp[cont_mask >= 0.1]\n",
    "hists = np.histogram(lbp, bins=10)[0]\n",
    "hists = hists / hists.sum()\n",
    "\n",
    "glcm = graycomatrix(\n",
    "    q_cont_mask, distances=[1], angles=[0, np.pi/4, np.pi/2, 3*np.pi/4], \n",
    "    levels=len(ths), symmetric=True, normed=False\n",
    ").astype(float)\n",
    "\n",
    "for i in range(4):\n",
    "    glcm[0,:,0,i] = 0\n",
    "    glcm[:,:,0,i] /= glcm[:,:,0,i].sum()\n",
    "\n",
    "contrast = graycoprops(glcm, \"contrast\").reshape(-1).mean()\n",
    "dissim = graycoprops(glcm, \"dissimilarity\").reshape(-1).mean()\n",
    "homo = graycoprops(glcm, \"homogeneity\").reshape(-1).mean()\n",
    "asm = graycoprops(glcm, \"ASM\").reshape(-1).mean()\n",
    "energy = graycoprops(glcm, \"energy\").reshape(-1).mean()\n",
    "corrs = graycoprops(glcm, \"correlation\").reshape(-1).mean()\n",
    "entropy = np.array([shannon_entropy(glcm[:,:,0,i]) for i in range(4)]).mean()\n",
    "\n",
    "print(contrast, dissim, homo, asm, energy, corrs, entropy)"
   ]
  },
  {
   "cell_type": "code",
   "execution_count": 63,
   "metadata": {},
   "outputs": [],
   "source": [
    "from skimage.feature import graycomatrix, graycoprops\n",
    "from skimage.measure import shannon_entropy\n",
    "\n",
    "glcm = graycomatrix(\n",
    "    q_cont_mask, distances=[1], angles=[0, np.pi/4, np.pi/2, 3*np.pi/4], \n",
    "    levels=len(th_ranges), symmetric=True, normed=False\n",
    ").astype(float)\n",
    "\n",
    "for i in range(4):\n",
    "    glcm[0,:,0,i] = 0\n",
    "    glcm[:,:,0,i] /= glcm[:,:,0,i].sum()\n",
    "\n",
    "contrast = graycoprops(glcm, \"contrast\").reshape(-1).mean()\n",
    "dissim = graycoprops(glcm, \"dissimilarity\").reshape(-1).mean()\n",
    "homo = graycoprops(glcm, \"homogeneity\").reshape(-1).mean()\n",
    "asm = graycoprops(glcm, \"ASM\").reshape(-1).mean()\n",
    "energy = graycoprops(glcm, \"energy\").reshape(-1).mean()\n",
    "corrs = graycoprops(glcm, \"correlation\").reshape(-1).mean()\n",
    "entropy = np.array([shannon_entropy(glcm[:,:,0,i]) for i in range(4)]).mean()"
   ]
  },
  {
   "cell_type": "code",
   "execution_count": 65,
   "metadata": {},
   "outputs": [
    {
     "data": {
      "text/plain": [
       "np.float64(0.0025050450785144263)"
      ]
     },
     "execution_count": 65,
     "metadata": {},
     "output_type": "execute_result"
    }
   ],
   "source": [
    "entropy"
   ]
  },
  {
   "cell_type": "code",
   "execution_count": null,
   "metadata": {},
   "outputs": [],
   "source": []
  }
 ],
 "metadata": {
  "kernelspec": {
   "display_name": ".venv",
   "language": "python",
   "name": "python3"
  },
  "language_info": {
   "codemirror_mode": {
    "name": "ipython",
    "version": 3
   },
   "file_extension": ".py",
   "mimetype": "text/x-python",
   "name": "python",
   "nbconvert_exporter": "python",
   "pygments_lexer": "ipython3",
   "version": "3.12.3"
  }
 },
 "nbformat": 4,
 "nbformat_minor": 2
}
